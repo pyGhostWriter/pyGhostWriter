{
 "cells": [
  {
   "cell_type": "markdown",
   "metadata": {},
   "source": [
    "## Scraping Lyrics Using MetroLyrics and LastFM\n",
    "###### Updated on 11/12/2019\n",
    "----------------"
   ]
  },
  {
   "cell_type": "markdown",
   "metadata": {},
   "source": [
    "#### To create conda environment from file:\n",
    "\n",
    "1. `cd` into `pyGhostWriter` repo\n",
    "2. `conda env create --file environment.yml`\n",
    "3. (Optional) `source ~/.bashrc`"
   ]
  },
  {
   "cell_type": "code",
   "execution_count": 1,
   "metadata": {
    "scrolled": true
   },
   "outputs": [
    {
     "name": "stdout",
     "output_type": "stream",
     "text": [
      "Collecting pip\n",
      "\u001b[?25l  Downloading https://files.pythonhosted.org/packages/00/b6/9cfa56b4081ad13874b0c6f96af8ce16cfbc1cb06bedf8e9164ce5551ec1/pip-19.3.1-py2.py3-none-any.whl (1.4MB)\n",
      "\u001b[K    100% |████████████████████████████████| 1.4MB 12.3MB/s ta 0:00:01\n",
      "\u001b[?25hInstalling collected packages: pip\n",
      "  Found existing installation: pip 10.0.1\n",
      "    Uninstalling pip-10.0.1:\n",
      "      Successfully uninstalled pip-10.0.1\n",
      "Successfully installed pip-19.3.1\n",
      "Collecting python-decouple\n",
      "  Downloading https://files.pythonhosted.org/packages/9b/99/ddfbb6362af4ee239a012716b1371aa6d316ff1b9db705bfb182fbc4780f/python-decouple-3.1.tar.gz\n",
      "Building wheels for collected packages: python-decouple\n",
      "  Building wheel for python-decouple (setup.py) ... \u001b[?25ldone\n",
      "\u001b[?25h  Created wheel for python-decouple: filename=python_decouple-3.1-cp36-none-any.whl size=7922 sha256=ae081e93b76c93b0e4aa459fe25f61df0ab8f9c246f60d63f29514f426a3063a\n",
      "  Stored in directory: /home/ec2-user/.cache/pip/wheels/0f/ee/80/75b684060dc6ecc5a28c07b75ef4063f378aff1a37556f342a\n",
      "Successfully built python-decouple\n",
      "Installing collected packages: python-decouple\n",
      "Successfully installed python-decouple-3.1\n",
      "Collecting tswift\n",
      "  Downloading https://files.pythonhosted.org/packages/dc/d3/2b4e14b67583188d2d6bc215a7bbbc07730bc546df98e60cafb5512f0773/tswift-0.6.0-py2.py3-none-any.whl\n",
      "Requirement already satisfied: lxml in /home/ec2-user/anaconda3/envs/python3/lib/python3.6/site-packages (from tswift) (4.2.1)\n",
      "Requirement already satisfied: requests in /home/ec2-user/anaconda3/envs/python3/lib/python3.6/site-packages (from tswift) (2.20.0)\n",
      "Collecting google>=2.0\n",
      "\u001b[?25l  Downloading https://files.pythonhosted.org/packages/34/4c/9bc51ae2611e5893ff45f8972f20dd7c8408eb5d706a541182ac2da3b0b7/google-2.0.2.tar.gz (45kB)\n",
      "\u001b[K     |████████████████████████████████| 51kB 3.4MB/s eta 0:00:011\n",
      "\u001b[?25hRequirement already satisfied: urllib3<1.25,>=1.21.1 in /home/ec2-user/anaconda3/envs/python3/lib/python3.6/site-packages (from requests->tswift) (1.23)\n",
      "Requirement already satisfied: chardet<3.1.0,>=3.0.2 in /home/ec2-user/anaconda3/envs/python3/lib/python3.6/site-packages (from requests->tswift) (3.0.4)\n",
      "Requirement already satisfied: idna<2.8,>=2.5 in /home/ec2-user/anaconda3/envs/python3/lib/python3.6/site-packages (from requests->tswift) (2.6)\n",
      "Requirement already satisfied: certifi>=2017.4.17 in /home/ec2-user/anaconda3/envs/python3/lib/python3.6/site-packages (from requests->tswift) (2019.9.11)\n",
      "Requirement already satisfied: beautifulsoup4 in /home/ec2-user/anaconda3/envs/python3/lib/python3.6/site-packages (from google>=2.0->tswift) (4.6.0)\n",
      "Building wheels for collected packages: google\n",
      "  Building wheel for google (setup.py) ... \u001b[?25ldone\n",
      "\u001b[?25h  Created wheel for google: filename=google-2.0.2-py2.py3-none-any.whl size=45465 sha256=a8f88f04f15c653d1545105de13d8fe646853ca133a59bb8d932753e69e8bb71\n",
      "  Stored in directory: /home/ec2-user/.cache/pip/wheels/ac/25/a4/837e13b998311f9824965755f86ecf69ef9ee1a7db10834cfc\n",
      "Successfully built google\n",
      "Installing collected packages: google, tswift\n",
      "Successfully installed google-2.0.2 tswift-0.6.0\n"
     ]
    }
   ],
   "source": [
    "!pip install --upgrade pip; pip install python-decouple; pip install tswift;"
   ]
  },
  {
   "cell_type": "code",
   "execution_count": 2,
   "metadata": {},
   "outputs": [],
   "source": [
    "import string\n",
    "import random\n",
    "\n",
    "import numpy as np\n",
    "import pandas as pd\n",
    "import requests as r\n",
    "from tswift import Artist, Song\n",
    "from decouple import config\n",
    "\n",
    "# LastFM\n",
    "API_KEY = config('LASTFM_API_KEY', cast=str)"
   ]
  },
  {
   "cell_type": "markdown",
   "metadata": {},
   "source": [
    "### MetroLyrics with `tswift` Usage Example\n",
    "\n",
    "`tswift` is currently broken, and I suspect its due to a change in the MetroLyrics API. I've submitted an issue on Github, but until that is resolved another solution needs to be implemented to retrieve lyrics for a given song or artist. **TODO**"
   ]
  },
  {
   "cell_type": "code",
   "execution_count": 3,
   "metadata": {},
   "outputs": [
    {
     "data": {
      "text/plain": [
       "[Song(title='I Dont Know Whats Going On', artist='The Cure'),\n",
       " Song(title='1015 Saturday Night', artist='The Cure'),\n",
       " Song(title='13Th', artist='The Cure'),\n",
       " Song(title='2 Late', artist='The Cure'),\n",
       " Song(title='39', artist='The Cure'),\n",
       " Song(title='A Boy I Never Knew', artist='The Cure'),\n",
       " Song(title='A Chain Of Flowers', artist='The Cure'),\n",
       " Song(title='A Few Hours After This', artist='The Cure'),\n",
       " Song(title='A Foolish Arrangement', artist='The Cure'),\n",
       " Song(title='A Forest', artist='The Cure')]"
      ]
     },
     "execution_count": 3,
     "metadata": {},
     "output_type": "execute_result"
    }
   ],
   "source": [
    "# Verify tswift is operational\n",
    "the_cure = Artist('The Cure')\n",
    "the_cure.songs[:10]"
   ]
  },
  {
   "cell_type": "code",
   "execution_count": 4,
   "metadata": {
    "scrolled": true
   },
   "outputs": [
    {
     "name": "stdout",
     "output_type": "stream",
     "text": [
      "You wear your smile\n",
      "Like it was going out of fashion\n",
      "Dress to inflame\n",
      "But douse any ideas of passion\n",
      "\n",
      "You carry your love in a trinket\n",
      "Hanging round your throat\n",
      "Always inviting, always exciting\n",
      "But I must not take off my coat\n",
      "\n",
      "Well I'm tired of hanging around\n",
      "I want somebody new\n",
      "I'm not sure who I've got in mind\n",
      "but I know\n",
      "\n",
      "That it's not you\n",
      "That it's not you\n",
      "\n",
      "You ask me questions\n",
      "That I never wanted to hear\n",
      "I am the only one\n",
      "Just until you finish this year\n",
      "\n",
      "I would murder you if I had an alibi\n",
      "Here in my hand\n",
      "You just laugh\n",
      "Because you don't understand\n",
      "\n",
      "I'm tired of hanging around\n",
      "I want somebody new\n",
      "I'm not sure who I've got in mind\n",
      "But I know that it's not you\n",
      "\n",
      "That it's not you\n",
      "That it's not you\n",
      "That it's not you\n",
      "That it's not you\n",
      "\n",
      "That it's not you\n",
      "No it's not you\n",
      "That it's not you\n",
      "It's not you\n",
      "It's not you\n",
      "<|endoftext|>\n"
     ]
    }
   ],
   "source": [
    "# <|endoftext|> is the GPT-2 training data delimiter\n",
    "song = random.choice(the_cure.songs)\n",
    "print(song.lyrics+'\\n<|endoftext|>')"
   ]
  },
  {
   "cell_type": "code",
   "execution_count": 5,
   "metadata": {},
   "outputs": [],
   "source": [
    "# Create dataframe of all songs and lyrics for The Cure\n",
    "lyrics_dict = {s.title: s.lyrics for s in the_cure.songs}\n",
    "lyrics_zipped = list(zip(lyrics_dict.keys(), lyrics_dict.values()))"
   ]
  },
  {
   "cell_type": "code",
   "execution_count": 6,
   "metadata": {},
   "outputs": [
    {
     "name": "stdout",
     "output_type": "stream",
     "text": [
      "Observations/Songs:  301\n"
     ]
    },
    {
     "data": {
      "text/html": [
       "<div>\n",
       "<style scoped>\n",
       "    .dataframe tbody tr th:only-of-type {\n",
       "        vertical-align: middle;\n",
       "    }\n",
       "\n",
       "    .dataframe tbody tr th {\n",
       "        vertical-align: top;\n",
       "    }\n",
       "\n",
       "    .dataframe thead th {\n",
       "        text-align: right;\n",
       "    }\n",
       "</style>\n",
       "<table border=\"1\" class=\"dataframe\">\n",
       "  <thead>\n",
       "    <tr style=\"text-align: right;\">\n",
       "      <th></th>\n",
       "      <th>title</th>\n",
       "      <th>lyrics</th>\n",
       "    </tr>\n",
       "  </thead>\n",
       "  <tbody>\n",
       "    <tr>\n",
       "      <th>0</th>\n",
       "      <td>I Dont Know Whats Going On</td>\n",
       "      <td>I don't know what's going on\\nI am so up close...</td>\n",
       "    </tr>\n",
       "    <tr>\n",
       "      <th>1</th>\n",
       "      <td>1015 Saturday Night</td>\n",
       "      <td>10.15 on a Saturday night\\nAnd the tap\\nDrips ...</td>\n",
       "    </tr>\n",
       "    <tr>\n",
       "      <th>2</th>\n",
       "      <td>13Th</td>\n",
       "      <td>'Everyone feels good in the room,' she swings\\...</td>\n",
       "    </tr>\n",
       "    <tr>\n",
       "      <th>3</th>\n",
       "      <td>2 Late</td>\n",
       "      <td>So I'll wait for you\\nWhere I always wait\\nBeh...</td>\n",
       "    </tr>\n",
       "    <tr>\n",
       "      <th>4</th>\n",
       "      <td>39</td>\n",
       "      <td>So the fire is almost out and there's nothing ...</td>\n",
       "    </tr>\n",
       "  </tbody>\n",
       "</table>\n",
       "</div>"
      ],
      "text/plain": [
       "                        title  \\\n",
       "0  I Dont Know Whats Going On   \n",
       "1         1015 Saturday Night   \n",
       "2                        13Th   \n",
       "3                      2 Late   \n",
       "4                          39   \n",
       "\n",
       "                                              lyrics  \n",
       "0  I don't know what's going on\\nI am so up close...  \n",
       "1  10.15 on a Saturday night\\nAnd the tap\\nDrips ...  \n",
       "2  'Everyone feels good in the room,' she swings\\...  \n",
       "3  So I'll wait for you\\nWhere I always wait\\nBeh...  \n",
       "4  So the fire is almost out and there's nothing ...  "
      ]
     },
     "execution_count": 6,
     "metadata": {},
     "output_type": "execute_result"
    }
   ],
   "source": [
    "lyrics_df = pd.DataFrame(lyrics_zipped, columns=['title', 'lyrics'])\n",
    "\n",
    "print('Observations/Songs: ', len(lyrics_df))\n",
    "lyrics_df.head()"
   ]
  },
  {
   "cell_type": "markdown",
   "metadata": {},
   "source": [
    "### LastFM Query Examples\n",
    "\n",
    "The API expects UTF-8 encoded strings, but in Python 3 this is the default string encoding."
   ]
  },
  {
   "cell_type": "code",
   "execution_count": 7,
   "metadata": {},
   "outputs": [
    {
     "data": {
      "text/plain": [
       "<Response [200]>"
      ]
     },
     "execution_count": 7,
     "metadata": {},
     "output_type": "execute_result"
    }
   ],
   "source": [
    "# Query similar artists of The Cure\n",
    "# To run LastFM queries input your API key\n",
    "response = r.get(f'http://ws.audioscrobbler.com/2.0/?method=artist.getsimilar&artist=thecure&api_key={API_KEY}&format=json')\n",
    "response"
   ]
  },
  {
   "cell_type": "code",
   "execution_count": 8,
   "metadata": {},
   "outputs": [
    {
     "name": "stdout",
     "output_type": "stream",
     "text": [
      "['New Order', 'Bauhaus', 'Joy Division', 'Siouxsie and the Banshees', 'The Glove', 'Echo & the Bunnymen', 'The Smiths', 'Depeche Mode', 'The Sisters of Mercy', 'Peter Murphy', 'The Chameleons', 'The Jesus and Mary Chain', 'The Church', 'Cocteau Twins', 'Love And Rockets', 'Morrissey', 'Nick Cave & The Bad Seeds', 'Killing Joke', 'The Sound', 'The Psychedelic Furs', 'Talking Heads', 'The Mission', 'Public Image Ltd.', 'Christian Death', 'Simple Minds', 'Xmal Deutschland', 'New Model Army', 'Sonic Youth', 'Sad Lovers and Giants', 'Modern English', 'Japan', 'Gang of Four', 'Tones on Tail', 'The Creatures', 'The Stranglers', 'Devo', 'The The', 'Pixies', 'Gene Loves Jezebel', 'Adam and the Ants', 'Duran Duran', 'XTC', 'Wire', 'The Damned', \"The B-52's\", 'Orchestral Manoeuvres in the Dark', 'R.E.M.', 'U2', 'Oingo Boingo', 'Magazine', 'Placebo', 'Alien Sex Fiend', 'Fad Gadget', 'She Wants Revenge', 'The Pretenders', 'Tears for Fears', 'The Soft Moon', 'Red Lorry Yellow Lorry', 'Television', 'Talk Talk', 'The Cult', 'Tubeway Army', 'Interpol', 'Hüsker Dü', 'PJ Harvey', 'Gary Numan', 'The Fall', 'The Teardrop Explodes', 'The Danse Society', 'Blondie', 'Soft Cell', 'The Feelies', 'Martin L. Gore', 'Pink Turns Blue', 'The Cars', 'Electronic', 'Radiohead', 'Pet Shop Boys', 'Elvis Costello', 'The Police', 'Roxy Music', 'a-ha', 'Billy Idol', 'The Replacements', 'Adam Ant', 'Dave Gahan', 'Wipers', 'Yazoo', 'Wall of Voodoo', 'The Birthday Party', 'The Human League', 'A Flock of Seagulls', 'Siouxsie', 'The Associates', 'INXS', 'Violent Femmes', 'Throwing Muses', 'Virgin Prunes', 'And Also The Trees', 'Primal Scream']\n"
     ]
    }
   ],
   "source": [
    "resp_json = response.json()['similarartists']['artist']\n",
    "\n",
    "print([band['name'] for band in resp_json])"
   ]
  },
  {
   "cell_type": "code",
   "execution_count": 9,
   "metadata": {},
   "outputs": [
    {
     "data": {
      "text/plain": [
       "<Response [200]>"
      ]
     },
     "execution_count": 9,
     "metadata": {},
     "output_type": "execute_result"
    }
   ],
   "source": [
    "# Query top tags for The Cure\n",
    "response = r.get(f'http://ws.audioscrobbler.com/2.0/?method=artist.getTopTags&artist=thecure&api_key={API_KEY}&format=json')\n",
    "response"
   ]
  },
  {
   "cell_type": "code",
   "execution_count": 10,
   "metadata": {},
   "outputs": [
    {
     "name": "stdout",
     "output_type": "stream",
     "text": [
      "['post-punk', 'new wave', 'alternative', '80s', 'rock', 'seen live', 'alternative rock', 'goth', 'british', 'indie', 'Gothic Rock', 'Gothic', 'The Cure', 'pop', 'Post punk', 'darkwave', 'punk', 'goth rock', 'indie rock', 'classic rock', 'dark', 'UK', '90s', 'britpop', 'cold wave', 'electronic', 'melancholic', 'dark wave', 'male vocalists', 'Cure', '70s', 'favorites', 'english', \"80's\", 'synth pop', 'Love', 'emo', 'england', 'robert smith', 'punk rock', 'synthpop', 'psychedelic', 'indie pop', 'melancholy']\n"
     ]
    }
   ],
   "source": [
    "resp_json = response.json()['toptags']['tag']\n",
    "\n",
    "print([tag['name'] for tag in resp_json])"
   ]
  },
  {
   "cell_type": "code",
   "execution_count": 11,
   "metadata": {},
   "outputs": [
    {
     "data": {
      "text/plain": [
       "<Response [200]>"
      ]
     },
     "execution_count": 11,
     "metadata": {},
     "output_type": "execute_result"
    }
   ],
   "source": [
    "# Query top artists in the post-punk top tag\n",
    "response = r.get(f'http://ws.audioscrobbler.com/2.0/?method=tag.gettopartists&tag=post-punk&api_key={API_KEY}&format=json')\n",
    "response"
   ]
  },
  {
   "cell_type": "code",
   "execution_count": 12,
   "metadata": {},
   "outputs": [
    {
     "name": "stdout",
     "output_type": "stream",
     "text": [
      "['The Cure', 'Joy Division', 'Nick Cave & The Bad Seeds', 'Swans', 'Siouxsie and the Banshees', 'Echo & the Bunnymen', 'Bauhaus', 'She Wants Revenge', 'Wire', 'Parquet Courts', 'The Fall', 'Killing Joke', 'Gang of Four', 'Motorama', 'Iceage', 'Television', 'Idles', 'The Chameleons', 'Public Image Ltd.', 'Savages', 'These New Puritans', 'Les Savy Fav', 'The Soft Moon', 'Protomartyr', 'New Model Army', 'The The', 'Mission of Burma', 'Suicide', 'Felt', 'Lebanon Hanover', 'The Durutti Column', 'The Birthday Party', 'Crystal Stilts', 'Peter Murphy', 'The Gun Club', 'The Sound', 'Orange Juice', 'The Feelies', 'Pere Ubu', 'Magazine', 'Young Marble Giants', 'Sleaford Mods', 'Ought', 'DRAB MAJESTY', 'Love And Rockets', 'Preoccupations', 'Tuxedomoon', 'The Clean', 'Буерак', 'Television Personalities']\n"
     ]
    }
   ],
   "source": [
    "resp_json = response.json()['topartists']['artist']\n",
    "\n",
    "print([band['name'] for band in resp_json])"
   ]
  },
  {
   "cell_type": "markdown",
   "metadata": {},
   "source": [
    "### Combining LastFM and MetroLyrics"
   ]
  },
  {
   "cell_type": "code",
   "execution_count": 13,
   "metadata": {},
   "outputs": [
    {
     "name": "stdin",
     "output_type": "stream",
     "text": [
      "Input artist (ex: The Cure):  Frank Zappa\n"
     ]
    },
    {
     "name": "stdout",
     "output_type": "stream",
     "text": [
      "Your artist has been chosen: Artist('frank-zappa'). Some of their songs include:\n",
      "* No No No\n",
      "* Quotno No No Quot\n",
      "* Ere Ian Whips Itjcb Spits Itmotorhead Rips It\n",
      "* 14 Tone Unit\n",
      "* 200 Motels Finale\n",
      "* 200 Years Old\n",
      "* 50 50\n",
      "* 98 Objects\n",
      "* A Cold Dark Matter\n",
      "* A Diffrent Octave\n"
     ]
    }
   ],
   "source": [
    "# Choose a band, and instantiate the Artist class for it, if it exists.\n",
    "user_band = input('Input artist (ex: The Cure): ')\n",
    "\n",
    "try:\n",
    "    band = Artist(user_band)\n",
    "    if len(band.songs) == 0:\n",
    "        raise ValueError('No songs for this artist.')\n",
    "except Exception as e:\n",
    "    print(f'Exception occured: {e}')\n",
    "else:\n",
    "    print(f'Your artist has been chosen: {band}. Some of their songs include:')\n",
    "    print('* '+'\\n* '.join([song.title for song in band.songs[:10]]))"
   ]
  },
  {
   "cell_type": "code",
   "execution_count": 14,
   "metadata": {
    "scrolled": true
   },
   "outputs": [],
   "source": [
    "# Before collecting any lyrics, build a list of all artists similar to the chosen artist.\n",
    "def query_lastfm(artist, query_type=2):\n",
    "    \n",
    "    artist_name = str(artist.name).replace('-', '')\n",
    "    \n",
    "    if query_type == 1:\n",
    "        # Get similar artists\n",
    "        response = r.get(f'http://ws.audioscrobbler.com/2.0/?method=artist.getsimilar&artist={artist_name}&api_key={API_KEY}&format=json')\n",
    "        if response.status_code != 200:\n",
    "            raise IOError(r.status_codes._codes[response.status_code])\n",
    "\n",
    "        resp_json = response.json()['similarartists']['artist']\n",
    "        similar_artists = [similar_artist['name'] for similar_artist in resp_json]\n",
    "        return similar_artists\n",
    "        \n",
    "    elif query_type == 2:\n",
    "        # Get similar artists\n",
    "        response = r.get(f'http://ws.audioscrobbler.com/2.0/?method=artist.getsimilar&artist={artist_name}&api_key={API_KEY}&format=json')\n",
    "        if response.status_code != 200:\n",
    "            raise IOError(f'IOError: {r.status_codes._codes[response.status_code]}')\n",
    "        resp_json = response.json()['similarartists']['artist']\n",
    "        similar_artists = [similar_artist['name'] for similar_artist in resp_json]\n",
    "        \n",
    "        # Get top tags\n",
    "        response = r.get(f'http://ws.audioscrobbler.com/2.0/?method=artist.getTopTags&artist={artist_name}&api_key={API_KEY}&format=json')\n",
    "        resp_json = response.json()['toptags']['tag']\n",
    "        top_tags = [tag['name'] for tag in resp_json]\n",
    "        \n",
    "        # Get tags top artists\n",
    "        tag_top_artists = []\n",
    "        for tag in top_tags[:3]:\n",
    "            response = r.get(f'http://ws.audioscrobbler.com/2.0/?method=tag.gettopartists&tag={tag}&api_key={API_KEY}&format=json')\n",
    "            resp_json = response.json()['topartists']['artist']\n",
    "            tag_top_artists.extend([artist['name'] for artist in resp_json])\n",
    "            \n",
    "        return similar_artists, top_tags, tag_top_artists\n",
    "          \n",
    "    else:\n",
    "        raise ValueError(f'query_type {query_type} unavailable.')\n"
   ]
  },
  {
   "cell_type": "code",
   "execution_count": 15,
   "metadata": {},
   "outputs": [],
   "source": [
    "similar_artists, top_tags, tag_top_artists = query_lastfm(band)"
   ]
  },
  {
   "cell_type": "code",
   "execution_count": 16,
   "metadata": {},
   "outputs": [
    {
     "name": "stdout",
     "output_type": "stream",
     "text": [
      "['The Mothers of Invention', 'Frank Zappa & Captain Beefheart', 'Captain Beefheart & His Magic Band', 'King Crimson', 'Dweezil Zappa', 'Gentle Giant', 'Gong', 'Van der Graaf Generator', 'Soft Machine', 'Brand X', 'Henry Cow', 'Mahavishnu Orchestra', 'Jethro Tull', 'Magma', 'Emerson, Lake & Palmer', 'Genesis', 'Yes', 'Adrian Belew', 'Hatfield and the North', 'Caravan', 'Robert Wyatt', 'Camel', 'Robert Fripp', 'The Residents', 'Traffic', 'Focus', 'Can', 'Peter Hammill', 'UK', 'Todd Rundgren', 'Jeff Beck', 'Faust', 'Rush', 'Allan Holdsworth', 'Ween', 'The Who', 'Premiata Forneria Marconi', 'Return to Forever', 'Bill Bruford', 'Peter Gabriel', 'Nektar', 'Amon Düül II', 'Banco del Mutuo Soccorso', \"Aphrodite's Child\", 'Renaissance', 'The Nice', 'Kevin Ayers', 'Steve Hackett', \"Manfred Mann's Earth Band\", 'Steely Dan', 'Area', 'Matching Mole', 'Procol Harum', 'Marillion', 'Ozric Tentacles', 'Steve Hillage', 'John Zorn', 'Cream', 'Mr. Bungle', 'Jimi Hendrix', 'Neil Young', 'The Mars Volta', 'Egg', 'The Moody Blues', 'Hawkwind', 'Pink Floyd', 'Grateful Dead', 'The Jimi Hendrix Experience', 'Rick Wakeman', 'Atomic Rooster', 'Wishbone Ash', 'Colosseum', 'The Alan Parsons Project', 'Rahsaan Roland Kirk', 'Eloy', 'Omar A. Rodriguez-Lopez', 'Blue Öyster Cult', 'Sun Ra', 'Spirit', \"Spock's Beard\", 'Secret Chiefs 3', 'Iron Butterfly', 'Lou Reed', 'Kansas', 'Curved Air', 'Roger Waters', 'The Flower Kings', 'Giles, Giles & Fripp', 'Porcupine Tree', 'Supertramp', 'Dixie Dregs', 'The Yardbirds', 'The Velvet Underground', 'David Gilmour', 'Fred Frith', 'Popol Vuh', 'Santana', 'Chicago', 'Medeski, Martin and Wood', 'Ian Anderson']\n"
     ]
    }
   ],
   "source": [
    "print(similar_artists)"
   ]
  },
  {
   "cell_type": "code",
   "execution_count": 17,
   "metadata": {},
   "outputs": [
    {
     "name": "stdout",
     "output_type": "stream",
     "text": [
      "['Progressive rock', 'experimental', 'rock', 'jazz', 'classic rock', 'Avant-Garde', 'Progressive', 'alternative', 'psychedelic', 'zappa', 'Fusion', 'Experimental Rock', 'jazz fusion', 'Psychedelic Rock', 'Jazz Rock', 'Frank Zappa', 'art rock', 'guitar', 'american', '70s', 'comedy', 'jazz-rock', 'Classical', 'guitar virtuoso', 'genius', 'singer-songwriter', '60s', 'hard rock', 'Comedy Rock', 'blues', '80s', 'composer', 'contemporary classical', 'avantgarde', 'alternative rock', 'funk', 'prog', 'Avant-Prog', 'satire', 'prog rock', 'USA', 'proto-punk', 'instrumental', 'pop', 'weird', 'free jazz', 'seen live', 'blues rock', 'humor', 'indie', 'humour', 'electronic', 'funny', 'Awesome', 'impossible for liberals to deal with', 'avant garde', 'conservative']\n"
     ]
    }
   ],
   "source": [
    "print(top_tags)"
   ]
  },
  {
   "cell_type": "code",
   "execution_count": 18,
   "metadata": {},
   "outputs": [
    {
     "name": "stdout",
     "output_type": "stream",
     "text": [
      "['Pink Floyd', 'Porcupine Tree', 'Rush', 'Coheed and Cambria', 'The Mars Volta', 'Genesis', 'Frank Zappa', 'Jethro Tull', 'King Crimson', 'Yes', 'Peter Gabriel', 'Mike Oldfield', 'Riverside', 'dredg', 'Steven Wilson', 'Marillion', 'The Alan Parsons Project', 'Camel', 'The Dear Hunter', 'Blackfield', 'David Gilmour', 'Roger Waters', 'Emerson, Lake & Palmer', 'Antimatter', 'Karnivool', 'Oceansize', 'The Pineapple Thief', 'Gentle Giant', 'Asia', 'Fair to Midland', 'Rishloo', 'Procol Harum', 'Lunatic Soul', 'Ozric Tentacles', 'Gazpacho', \"Spock's Beard\", 'Van der Graaf Generator', 'Wishbone Ash', 'Pure Reason Revolution', 'Soft Machine', 'Closure in Moscow', 'Nothing More', 'Steve Hackett', 'Focus', 'Kingston Wall', 'Amplifier', 'Gong', 'Robert Wyatt', 'Caravan', 'Eloy', 'Animal Collective', 'Portugal. The Man', 'Buckethead', 'Chelsea Wolfe', 'Panda Bear', 'Dirty Projectors', 'Bibio', 'Xiu Xiu', 'Deerhoof', 'Captain Beefheart & His Magic Band', 'Health', 'Liars', 'Shlohmo', 'The Books', 'tUnE-yArDs', 'Soap&Skin', 'Mr. Bungle', 'Julia Holter', 'Menomena', 'The Residents', 'Volcano Choir', 'Actress', 'Active Child', 'Fuck Buttons', 'Fantômas', 'Jai Paul', 'Tomahawk', 'Holy Fuck', 'Gang Gang Dance', 'Forest Swords', 'Jonny Greenwood', 'iwrestledabearonce', 'Gonjasufi', 'Omar A. Rodriguez-Lopez', 'Bear in Heaven', 'The Sound of Animals Fighting', 'Rolo Tomassi', 'Dean Blunt', 'Granular', 'David Lynch', 'Foxy Shazam', 'Suuns', 'Cuco', 'Glasser', 'Thurston Moore', 'Mike Patton', 'El Guincho', 'Micachu', 'Laurel Halo', 'The Legendary Pink Dots', 'Coldplay', 'Linkin Park', 'Red Hot Chili Peppers', 'David Bowie', 'Paramore', 'Foo Fighters', 'Kings of Leon', 'U2', 'Maroon 5', 'My Chemical Romance', 'Panic! at the Disco', 'The White Stripes', 'Weezer', 'Incubus', 'Evanescence', 'R.E.M.', 'Rage Against the Machine', 'Bruce Springsteen', 'Nickelback', 'Papa Roach', 'Aerosmith', 'OneRepublic', 'Bon Jovi', 'Jimmy Eat World', 'The Velvet Underground', 'The Cranberries', '3 Doors Down', 'Audioslave', 'Tenacious D', 'The Police', 'Garbage', 'Seether', 'The All-American Rejects', 'Simple Plan', 'Dave Matthews Band', 'No Doubt', 'Sting', 'Shinedown', 'The Pretty Reckless', 'Black Rebel Motorcycle Club', 'Goo Goo Dolls', 'Manic Street Preachers', 'Anberlin', 'Lostprophets', 'Stereophonics', 'Lifehouse', 'Counting Crows', 'Coma', 'Alter Bridge', 'Bloodhound Gang']\n"
     ]
    }
   ],
   "source": [
    "print(tag_top_artists)"
   ]
  }
 ],
 "metadata": {
  "kernelspec": {
   "display_name": "conda_python3",
   "language": "python",
   "name": "conda_python3"
  },
  "language_info": {
   "codemirror_mode": {
    "name": "ipython",
    "version": 3
   },
   "file_extension": ".py",
   "mimetype": "text/x-python",
   "name": "python",
   "nbconvert_exporter": "python",
   "pygments_lexer": "ipython3",
   "version": "3.6.5"
  }
 },
 "nbformat": 4,
 "nbformat_minor": 4
}
