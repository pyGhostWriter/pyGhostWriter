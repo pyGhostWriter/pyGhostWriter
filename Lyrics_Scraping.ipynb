{
 "cells": [
  {
   "cell_type": "markdown",
   "metadata": {},
   "source": [
    "## Scraping Lyrics Using MetroLyrics and LastFM\n",
    "###### Updated on 10/12/2019\n",
    "----------------"
   ]
  },
  {
   "cell_type": "markdown",
   "metadata": {},
   "source": [
    "#### To create conda environment from file:\n",
    "\n",
    "1. `cd` into `pyGhostWriter` repo\n",
    "2. `conda env create --file environment.yml`\n",
    "3. (Optional) `source ~/.bashrc`"
   ]
  },
  {
   "cell_type": "code",
   "execution_count": 14,
   "metadata": {},
   "outputs": [
    {
     "name": "stdout",
     "output_type": "stream",
     "text": [
      "Requirement already up-to-date: pip in /home/ec2-user/anaconda3/envs/python3/lib/python3.6/site-packages (19.3.1)\n",
      "Requirement already satisfied: python-decouple in /home/ec2-user/anaconda3/envs/python3/lib/python3.6/site-packages (3.1)\n",
      "Requirement already satisfied: tswift in /home/ec2-user/anaconda3/envs/python3/lib/python3.6/site-packages (0.5.0)\n",
      "Requirement already satisfied: requests in /home/ec2-user/anaconda3/envs/python3/lib/python3.6/site-packages (from tswift) (2.20.0)\n",
      "Requirement already satisfied: google>=2.0 in /home/ec2-user/anaconda3/envs/python3/lib/python3.6/site-packages (from tswift) (2.0.2)\n",
      "Requirement already satisfied: lxml in /home/ec2-user/anaconda3/envs/python3/lib/python3.6/site-packages (from tswift) (4.2.1)\n",
      "Requirement already satisfied: idna<2.8,>=2.5 in /home/ec2-user/anaconda3/envs/python3/lib/python3.6/site-packages (from requests->tswift) (2.6)\n",
      "Requirement already satisfied: urllib3<1.25,>=1.21.1 in /home/ec2-user/anaconda3/envs/python3/lib/python3.6/site-packages (from requests->tswift) (1.23)\n",
      "Requirement already satisfied: chardet<3.1.0,>=3.0.2 in /home/ec2-user/anaconda3/envs/python3/lib/python3.6/site-packages (from requests->tswift) (3.0.4)\n",
      "Requirement already satisfied: certifi>=2017.4.17 in /home/ec2-user/anaconda3/envs/python3/lib/python3.6/site-packages (from requests->tswift) (2019.9.11)\n",
      "Requirement already satisfied: beautifulsoup4 in /home/ec2-user/anaconda3/envs/python3/lib/python3.6/site-packages (from google>=2.0->tswift) (4.6.0)\n"
     ]
    }
   ],
   "source": [
    "!pip install --upgrade pip; pip install python-decouple; pip install tswift;"
   ]
  },
  {
   "cell_type": "code",
   "execution_count": 15,
   "metadata": {},
   "outputs": [],
   "source": [
    "import string\n",
    "import random\n",
    "\n",
    "import numpy as np\n",
    "import pandas as pd\n",
    "import requests as r\n",
    "from tswift import Artist, Song\n",
    "from decouple import config\n",
    "\n",
    "# LastFM\n",
    "API_KEY = config('LASTFM_API_KEY', cast=str)"
   ]
  },
  {
   "cell_type": "markdown",
   "metadata": {},
   "source": [
    "### MetroLyrics with `tswift` Usage Example\n",
    "\n",
    "`tswift` is currently broken, and I suspect its due to a change in the MetroLyrics API. I've submitted an issue on Github, but until that is resolved another solution needs to be implemented to retrieve lyrics for a given song or artist. **TODO**"
   ]
  },
  {
   "cell_type": "code",
   "execution_count": 3,
   "metadata": {},
   "outputs": [
    {
     "data": {
      "text/plain": [
       "[Song(title='I Dont Know Whats Going On', artist='The Cure'),\n",
       " Song(title='1015 Saturday Night', artist='The Cure'),\n",
       " Song(title='13Th', artist='The Cure'),\n",
       " Song(title='2 Late', artist='The Cure'),\n",
       " Song(title='39', artist='The Cure'),\n",
       " Song(title='A Boy I Never Knew', artist='The Cure'),\n",
       " Song(title='A Chain Of Flowers', artist='The Cure'),\n",
       " Song(title='A Few Hours After This', artist='The Cure'),\n",
       " Song(title='A Foolish Arrangement', artist='The Cure'),\n",
       " Song(title='A Forest', artist='The Cure')]"
      ]
     },
     "execution_count": 3,
     "metadata": {},
     "output_type": "execute_result"
    }
   ],
   "source": [
    "# Verify tswift is operational\n",
    "the_cure = Artist('The Cure')\n",
    "the_cure.songs[:10]"
   ]
  },
  {
   "cell_type": "code",
   "execution_count": 4,
   "metadata": {
    "scrolled": true
   },
   "outputs": [
    {
     "name": "stdout",
     "output_type": "stream",
     "text": [
      "Shout\n",
      "Shout\n",
      "Shout\n",
      "New day\n",
      "New lie\n",
      "\n",
      "I see this again\n",
      "The same\n",
      "This time has gone again\n",
      "\n",
      "This\n",
      "In the sky\n",
      "This\n",
      "Here in my hand\n",
      "Shout\n",
      "\n",
      "Jumping on it from the trees\n",
      "Doing the same\n",
      "On the air\n",
      "On the air\n",
      "\n",
      "Shout\n",
      "Shout\n",
      "\n",
      "In heaven\n",
      "The ground is waiting\n",
      "See my eye\n",
      "\n",
      "Once more\n",
      "It's been the same song\n",
      "Babbling\n",
      "\n",
      "On this\n",
      "On all of you\n",
      "Shout\n",
      "Shout\n",
      "Shout\n",
      "<|endoftext|>\n"
     ]
    }
   ],
   "source": [
    "# <|endoftext|> is the GPT-2 training data delimiter\n",
    "song = random.choice(the_cure.songs)\n",
    "print(song.lyrics+'\\n<|endoftext|>')"
   ]
  },
  {
   "cell_type": "code",
   "execution_count": 5,
   "metadata": {},
   "outputs": [],
   "source": [
    "# Create dataframe of all songs and lyrics for The Cure\n",
    "lyrics_dict = {s.title: s.lyrics for s in the_cure.songs}\n",
    "lyrics_zipped = list(zip(lyrics_dict.keys(), lyrics_dict.values()))"
   ]
  },
  {
   "cell_type": "code",
   "execution_count": 6,
   "metadata": {},
   "outputs": [
    {
     "name": "stdout",
     "output_type": "stream",
     "text": [
      "Observations/Songs:  301\n"
     ]
    },
    {
     "data": {
      "text/html": [
       "<div>\n",
       "<style scoped>\n",
       "    .dataframe tbody tr th:only-of-type {\n",
       "        vertical-align: middle;\n",
       "    }\n",
       "\n",
       "    .dataframe tbody tr th {\n",
       "        vertical-align: top;\n",
       "    }\n",
       "\n",
       "    .dataframe thead th {\n",
       "        text-align: right;\n",
       "    }\n",
       "</style>\n",
       "<table border=\"1\" class=\"dataframe\">\n",
       "  <thead>\n",
       "    <tr style=\"text-align: right;\">\n",
       "      <th></th>\n",
       "      <th>title</th>\n",
       "      <th>lyrics</th>\n",
       "    </tr>\n",
       "  </thead>\n",
       "  <tbody>\n",
       "    <tr>\n",
       "      <th>0</th>\n",
       "      <td>I Dont Know Whats Going On</td>\n",
       "      <td>I don't know what's going on\\nI am so up close...</td>\n",
       "    </tr>\n",
       "    <tr>\n",
       "      <th>1</th>\n",
       "      <td>1015 Saturday Night</td>\n",
       "      <td>10.15 on a Saturday night\\nAnd the tap\\nDrips ...</td>\n",
       "    </tr>\n",
       "    <tr>\n",
       "      <th>2</th>\n",
       "      <td>13Th</td>\n",
       "      <td>'Everyone feels good in the room,' she swings\\...</td>\n",
       "    </tr>\n",
       "    <tr>\n",
       "      <th>3</th>\n",
       "      <td>2 Late</td>\n",
       "      <td>So I'll wait for you\\nWhere I always wait\\nBeh...</td>\n",
       "    </tr>\n",
       "    <tr>\n",
       "      <th>4</th>\n",
       "      <td>39</td>\n",
       "      <td>So the fire is almost out and there's nothing ...</td>\n",
       "    </tr>\n",
       "  </tbody>\n",
       "</table>\n",
       "</div>"
      ],
      "text/plain": [
       "                        title  \\\n",
       "0  I Dont Know Whats Going On   \n",
       "1         1015 Saturday Night   \n",
       "2                        13Th   \n",
       "3                      2 Late   \n",
       "4                          39   \n",
       "\n",
       "                                              lyrics  \n",
       "0  I don't know what's going on\\nI am so up close...  \n",
       "1  10.15 on a Saturday night\\nAnd the tap\\nDrips ...  \n",
       "2  'Everyone feels good in the room,' she swings\\...  \n",
       "3  So I'll wait for you\\nWhere I always wait\\nBeh...  \n",
       "4  So the fire is almost out and there's nothing ...  "
      ]
     },
     "execution_count": 6,
     "metadata": {},
     "output_type": "execute_result"
    }
   ],
   "source": [
    "lyrics_df = pd.DataFrame(lyrics_zipped, columns=['title', 'lyrics'])\n",
    "\n",
    "print('Observations/Songs: ', len(lyrics_df))\n",
    "lyrics_df.head()"
   ]
  },
  {
   "cell_type": "markdown",
   "metadata": {},
   "source": [
    "### LastFM Query Examples\n",
    "\n",
    "The API expects UTF-8 encoded strings, but in Python 3 this is the default string encoding."
   ]
  },
  {
   "cell_type": "code",
   "execution_count": 7,
   "metadata": {},
   "outputs": [
    {
     "data": {
      "text/plain": [
       "<Response [200]>"
      ]
     },
     "execution_count": 7,
     "metadata": {},
     "output_type": "execute_result"
    }
   ],
   "source": [
    "# Query similar artists of The Cure\n",
    "# To run LastFM queries input your API key\n",
    "response = r.get(f'http://ws.audioscrobbler.com/2.0/?method=artist.getsimilar&artist=thecure&api_key={API_KEY}&format=json')\n",
    "response"
   ]
  },
  {
   "cell_type": "code",
   "execution_count": 8,
   "metadata": {},
   "outputs": [
    {
     "name": "stdout",
     "output_type": "stream",
     "text": [
      "['The Glove', 'Siouxsie and the Banshees', 'New Order', 'Joy Division', 'Bauhaus', 'The Smiths', 'Echo & the Bunnymen', 'Depeche Mode', 'The Sisters of Mercy', 'The Chameleons', 'Peter Murphy', 'The Jesus and Mary Chain', 'Nick Cave & The Bad Seeds', 'The Church', 'The Psychedelic Furs', 'Cocteau Twins', 'Love And Rockets', 'The Sound', 'Talking Heads', 'Morrissey', 'Killing Joke', 'Japan', 'Christian Death', 'Public Image Ltd.', 'Sonic Youth', 'The The', 'Gang of Four', 'Xmal Deutschland', 'Simple Minds', 'Sad Lovers and Giants', 'The Mission', 'New Model Army', 'Modern English', 'Tones on Tail', 'The Creatures', 'Duran Duran', 'XTC', 'Wire', 'The Stranglers', 'Devo', 'Adam and the Ants', 'Pixies', 'Interpol', 'The Damned', 'Placebo', 'Magazine', 'Gene Loves Jezebel', 'Alien Sex Fiend', 'She Wants Revenge', 'Tears for Fears', \"The B-52's\", 'R.E.M.', 'Red Lorry Yellow Lorry', 'Gary Numan', 'Television', 'Fad Gadget', 'U2', 'The Cult', 'Soft Cell', 'Pet Shop Boys', 'Talk Talk', 'Oingo Boingo', 'PJ Harvey', 'The Teardrop Explodes', 'Elvis Costello', 'The Soft Moon', 'The Danse Society', 'The Cars', 'The Fall', 'Orchestral Manoeuvres in the Dark', 'Electronic', 'The Feelies', 'Martin L. Gore', 'Radiohead', 'The Human League', 'Adam Ant', 'Hüsker Dü', 'Billy Idol', 'Blondie', 'The Replacements', 'The Birthday Party', 'Pink Turns Blue', 'Wipers', 'Roxy Music', 'INXS', 'Wall of Voodoo', 'Elvis Costello & The Attractions', 'The Comsat Angels', 'The Police', 'Dave Gahan', 'a-ha', 'Dinosaur Jr.', 'Virgin Prunes', 'Tubeway Army', 'Visage', 'Big Country', 'Skeletal Family', 'And Also The Trees', 'Siouxsie', 'Violent Femmes']\n"
     ]
    }
   ],
   "source": [
    "resp_json = response.json()['similarartists']['artist']\n",
    "\n",
    "print([band['name'] for band in resp_json])"
   ]
  },
  {
   "cell_type": "code",
   "execution_count": 9,
   "metadata": {},
   "outputs": [
    {
     "data": {
      "text/plain": [
       "<Response [200]>"
      ]
     },
     "execution_count": 9,
     "metadata": {},
     "output_type": "execute_result"
    }
   ],
   "source": [
    "# Query top tags for The Cure\n",
    "response = r.get(f'http://ws.audioscrobbler.com/2.0/?method=artist.getTopTags&artist=thecure&api_key={API_KEY}&format=json')\n",
    "response"
   ]
  },
  {
   "cell_type": "code",
   "execution_count": 10,
   "metadata": {},
   "outputs": [
    {
     "name": "stdout",
     "output_type": "stream",
     "text": [
      "['post-punk', 'new wave', 'alternative', '80s', 'rock', 'seen live', 'alternative rock', 'goth', 'british', 'indie', 'Gothic Rock', 'Gothic', 'The Cure', 'pop', 'Post punk', 'darkwave', 'punk', 'goth rock', 'indie rock', 'classic rock', 'dark', 'UK', '90s', 'britpop', 'cold wave', 'electronic', 'melancholic', 'dark wave', 'male vocalists', 'Cure', '70s', 'favorites', 'english', \"80's\", 'synth pop', 'Love', 'emo', 'england', 'robert smith', 'punk rock', 'synthpop', 'psychedelic', 'indie pop', 'melancholy']\n"
     ]
    }
   ],
   "source": [
    "resp_json = response.json()['toptags']['tag']\n",
    "\n",
    "print([tag['name'] for tag in resp_json])"
   ]
  },
  {
   "cell_type": "code",
   "execution_count": 11,
   "metadata": {},
   "outputs": [
    {
     "data": {
      "text/plain": [
       "<Response [200]>"
      ]
     },
     "execution_count": 11,
     "metadata": {},
     "output_type": "execute_result"
    }
   ],
   "source": [
    "# Query top artists in the post-punk top tag\n",
    "response = r.get(f'http://ws.audioscrobbler.com/2.0/?method=tag.gettopartists&tag=post-punk&api_key={API_KEY}&format=json')\n",
    "response"
   ]
  },
  {
   "cell_type": "code",
   "execution_count": 12,
   "metadata": {},
   "outputs": [
    {
     "name": "stdout",
     "output_type": "stream",
     "text": [
      "['The Cure', 'Joy Division', 'Nick Cave & The Bad Seeds', 'Swans', 'Siouxsie and the Banshees', 'Echo & the Bunnymen', 'Bauhaus', 'She Wants Revenge', 'Wire', 'Parquet Courts', 'The Fall', 'Killing Joke', 'Gang of Four', 'Motorama', 'Iceage', 'Television', 'Idles', 'The Chameleons', 'Public Image Ltd.', 'Savages', 'These New Puritans', 'Les Savy Fav', 'The Soft Moon', 'Protomartyr', 'New Model Army', 'The The', 'Mission of Burma', 'Suicide', 'Felt', 'Lebanon Hanover', 'The Durutti Column', 'The Birthday Party', 'Crystal Stilts', 'Peter Murphy', 'The Gun Club', 'The Sound', 'The Feelies', 'Orange Juice', 'Pere Ubu', 'Magazine', 'Young Marble Giants', 'Sleaford Mods', 'Ought', 'Love And Rockets', 'Preoccupations', 'DRAB MAJESTY', 'Tuxedomoon', 'The Clean', \"I Love You But I've Chosen Darkness\", 'Television Personalities']\n"
     ]
    }
   ],
   "source": [
    "resp_json = response.json()['topartists']['artist']\n",
    "\n",
    "print([band['name'] for band in resp_json])"
   ]
  },
  {
   "cell_type": "markdown",
   "metadata": {},
   "source": [
    "### Combining LastFM and MetroLyrics"
   ]
  },
  {
   "cell_type": "code",
   "execution_count": 13,
   "metadata": {},
   "outputs": [
    {
     "name": "stdin",
     "output_type": "stream",
     "text": [
      "Input artist (ex: The Cure):  Frank Zappa\n"
     ]
    },
    {
     "name": "stdout",
     "output_type": "stream",
     "text": [
      "Your artist has been chosen: Artist('frank-zappa'). Some of their songs include:\n",
      "* No No No\n",
      "* Quotno No No Quot\n",
      "* Ere Ian Whips Itjcb Spits Itmotorhead Rips It\n",
      "* 14 Tone Unit\n",
      "* 200 Motels Finale\n",
      "* 200 Years Old\n",
      "* 50 50\n",
      "* 98 Objects\n",
      "* A Cold Dark Matter\n",
      "* A Diffrent Octave\n"
     ]
    }
   ],
   "source": [
    "# Choose a band, and instantiate the Artist class for it, if it exists.\n",
    "user_band = input('Input artist (ex: The Cure): ')\n",
    "\n",
    "try:\n",
    "    band = Artist(user_band)\n",
    "    if len(band.songs) == 0:\n",
    "        raise ValueError('No songs for this artist.')\n",
    "except Exception as e:\n",
    "    print(f'Exception occured: {e}')\n",
    "else:\n",
    "    print(f'Your artist has been chosen: {band}. Some of their songs include:')\n",
    "    print('* '+'\\n* '.join([song.title for song in band.songs[:10]]))"
   ]
  },
  {
   "cell_type": "code",
   "execution_count": 14,
   "metadata": {
    "scrolled": true
   },
   "outputs": [],
   "source": [
    "# Before collecting any lyrics, build a list of all artists similar to the chosen artist.\n",
    "def query_lastfm(artist, query_type=2):\n",
    "    \n",
    "    artist_name = str(artist.name).replace('-', '')\n",
    "    \n",
    "    if query_type == 1:\n",
    "        # Get similar artists\n",
    "        response = r.get(f'http://ws.audioscrobbler.com/2.0/?method=artist.getsimilar&artist={artist_name}&api_key={API_KEY}&format=json')\n",
    "        if response.status_code != 200:\n",
    "            raise IOError(r.status_codes._codes[response.status_code])\n",
    "\n",
    "        resp_json = response.json()['similarartists']['artist']\n",
    "        similar_artists = [similar_artist['name'] for similar_artist in resp_json]\n",
    "        return similar_artists\n",
    "        \n",
    "    elif query_type == 2:\n",
    "        # Get similar artists\n",
    "        response = r.get(f'http://ws.audioscrobbler.com/2.0/?method=artist.getsimilar&artist={artist_name}&api_key={API_KEY}&format=json')\n",
    "        if response.status_code != 200:\n",
    "            raise IOError(f'IOError: {r.status_codes._codes[response.status_code]}')\n",
    "        resp_json = response.json()['similarartists']['artist']\n",
    "        similar_artists = [similar_artist['name'] for similar_artist in resp_json]\n",
    "        \n",
    "        # Get top tags\n",
    "        response = r.get(f'http://ws.audioscrobbler.com/2.0/?method=artist.getTopTags&artist={artist_name}&api_key={API_KEY}&format=json')\n",
    "        resp_json = response.json()['toptags']['tag']\n",
    "        top_tags = [tag['name'] for tag in resp_json]\n",
    "        \n",
    "        # Get tags top artists\n",
    "        tag_top_artists = []\n",
    "        for tag in top_tags[:3]:\n",
    "            response = r.get(f'http://ws.audioscrobbler.com/2.0/?method=tag.gettopartists&tag={tag}&api_key={API_KEY}&format=json')\n",
    "            resp_json = response.json()['topartists']['artist']\n",
    "            tag_top_artists.extend([artist['name'] for artist in resp_json])\n",
    "            \n",
    "        return similar_artists, top_tags, tag_top_artists\n",
    "          \n",
    "    else:\n",
    "        raise ValueError(f'query_type {query_type} unavailable.')\n"
   ]
  },
  {
   "cell_type": "code",
   "execution_count": 15,
   "metadata": {},
   "outputs": [],
   "source": [
    "similar_artists, top_tags, tag_top_artists = query_lastfm(band)"
   ]
  },
  {
   "cell_type": "code",
   "execution_count": 16,
   "metadata": {},
   "outputs": [
    {
     "name": "stdout",
     "output_type": "stream",
     "text": [
      "['The Mothers of Invention', 'Frank Zappa & Captain Beefheart', 'King Crimson', 'Dweezil Zappa', 'Captain Beefheart & His Magic Band', 'Gong', 'Gentle Giant', 'Soft Machine', 'Van der Graaf Generator', 'Brand X', 'Jethro Tull', 'Mahavishnu Orchestra', 'Magma', 'Henry Cow', 'Adrian Belew', 'Emerson, Lake & Palmer', 'Yes', 'Caravan', 'Genesis', 'Robert Wyatt', 'Camel', 'The Residents', 'Can', 'Hatfield and the North', 'Traffic', 'Focus', 'The Who', 'Peter Hammill', 'Robert Fripp', 'Faust', 'Rush', \"Manfred Mann's Earth Band\", 'Jeff Beck', 'Return to Forever', \"Aphrodite's Child\", 'Banco del Mutuo Soccorso', 'Ween', 'Amon Düül II', 'UK', 'Allan Holdsworth', 'Todd Rundgren', 'Premiata Forneria Marconi', 'Nektar', 'Bill Bruford', 'Renaissance', 'Steve Hackett', 'Kevin Ayers', 'Procol Harum', 'Peter Gabriel', 'The Nice', 'Steve Hillage', 'Steely Dan', 'The Mars Volta', 'Pink Floyd', 'Marillion', 'Area', 'Matching Mole', 'Mr. Bungle', 'The Alan Parsons Project', 'Cream', 'Hawkwind', 'Rahsaan Roland Kirk', 'Egg', 'Grateful Dead', 'Neil Young', 'John Zorn', 'Omar A. Rodriguez-Lopez', 'Jimi Hendrix', 'The Moody Blues', 'Spirit', 'Ozric Tentacles', 'Wishbone Ash', 'Lou Reed', 'Eloy', 'Rick Wakeman', \"Spock's Beard\", 'Colosseum', 'Blue Öyster Cult', 'Sun Ra', 'Kansas', 'The Jimi Hendrix Experience', 'Atomic Rooster', 'Chicago', 'Supertramp', 'Iron Butterfly', 'Roger Waters', 'The Yardbirds', 'The Velvet Underground', 'Porcupine Tree', 'Popol Vuh', 'George Harrison', 'Guru Guru', 'Dixie Dregs', 'Cardiacs', 'David Gilmour', 'The Flower Kings', 'Santana', 'The Rolling Stones', 'Curved Air', 'Secret Chiefs 3']\n"
     ]
    }
   ],
   "source": [
    "print(similar_artists)"
   ]
  },
  {
   "cell_type": "code",
   "execution_count": 17,
   "metadata": {},
   "outputs": [
    {
     "name": "stdout",
     "output_type": "stream",
     "text": [
      "['Progressive rock', 'experimental', 'rock', 'jazz', 'classic rock', 'Avant-Garde', 'Progressive', 'alternative', 'psychedelic', 'zappa', 'Fusion', 'Experimental Rock', 'jazz fusion', 'Psychedelic Rock', 'Jazz Rock', 'Frank Zappa', 'art rock', 'guitar', 'american', '70s', 'comedy', 'jazz-rock', 'Classical', 'guitar virtuoso', 'genius', 'singer-songwriter', '60s', 'hard rock', 'Comedy Rock', 'blues', '80s', 'composer', 'contemporary classical', 'avantgarde', 'alternative rock', 'funk', 'prog', 'Avant-Prog', 'satire', 'prog rock', 'USA', 'proto-punk', 'instrumental', 'pop', 'weird', 'free jazz', 'seen live', 'blues rock', 'humor', 'indie', 'humour', 'electronic', 'funny', 'Awesome', 'impossible for liberals to deal with', 'avant garde', 'conservative']\n"
     ]
    }
   ],
   "source": [
    "print(top_tags)"
   ]
  },
  {
   "cell_type": "code",
   "execution_count": 18,
   "metadata": {},
   "outputs": [
    {
     "name": "stdout",
     "output_type": "stream",
     "text": [
      "['Pink Floyd', 'Porcupine Tree', 'Rush', 'Coheed and Cambria', 'The Mars Volta', 'Genesis', 'Frank Zappa', 'Jethro Tull', 'King Crimson', 'Yes', 'Peter Gabriel', 'Mike Oldfield', 'Riverside', 'dredg', 'Steven Wilson', 'Marillion', 'The Alan Parsons Project', 'Camel', 'The Dear Hunter', 'Blackfield', 'David Gilmour', 'Roger Waters', 'Emerson, Lake & Palmer', 'Antimatter', 'Karnivool', 'Oceansize', 'The Pineapple Thief', 'Gentle Giant', 'Asia', 'Fair to Midland', 'Rishloo', 'Procol Harum', 'Lunatic Soul', 'Ozric Tentacles', 'Gazpacho', \"Spock's Beard\", 'Van der Graaf Generator', 'Wishbone Ash', 'Pure Reason Revolution', 'Soft Machine', 'Closure in Moscow', 'Nothing More', 'Steve Hackett', 'Focus', 'Kingston Wall', 'Amplifier', 'Gong', 'Robert Wyatt', 'Caravan', 'Eloy', 'Animal Collective', 'Portugal. The Man', 'Buckethead', 'Chelsea Wolfe', 'Panda Bear', 'Dirty Projectors', 'Bibio', 'Xiu Xiu', 'Deerhoof', 'Captain Beefheart & His Magic Band', 'Health', 'Liars', 'Shlohmo', 'The Books', 'tUnE-yArDs', 'Soap&Skin', 'Mr. Bungle', 'Julia Holter', 'Menomena', 'The Residents', 'Volcano Choir', 'Actress', 'Active Child', 'Fuck Buttons', 'Fantômas', 'Jai Paul', 'Tomahawk', 'Holy Fuck', 'Gang Gang Dance', 'Forest Swords', 'Jonny Greenwood', 'iwrestledabearonce', 'Gonjasufi', 'Omar A. Rodriguez-Lopez', 'Bear in Heaven', 'The Sound of Animals Fighting', 'Rolo Tomassi', 'Foxy Shazam', 'David Lynch', 'Dean Blunt', 'Suuns', 'Glasser', 'Thurston Moore', 'El Guincho', 'Mike Patton', 'Micachu', 'Laurel Halo', 'The Legendary Pink Dots', 'Cuco', 'Granular', 'Coldplay', 'Linkin Park', 'Red Hot Chili Peppers', 'David Bowie', 'Paramore', 'Foo Fighters', 'Kings of Leon', 'U2', 'Maroon 5', 'Panic! at the Disco', 'My Chemical Romance', 'The White Stripes', 'Weezer', 'Incubus', 'Evanescence', 'R.E.M.', 'Rage Against the Machine', 'Bruce Springsteen', 'Nickelback', 'Papa Roach', 'Aerosmith', 'OneRepublic', 'Bon Jovi', 'Jimmy Eat World', 'The Velvet Underground', 'The Cranberries', '3 Doors Down', 'Audioslave', 'Tenacious D', 'The Police', 'Garbage', 'Seether', 'The All-American Rejects', 'Simple Plan', 'Dave Matthews Band', 'No Doubt', 'Sting', 'Shinedown', 'The Pretty Reckless', 'Black Rebel Motorcycle Club', 'Goo Goo Dolls', 'Manic Street Preachers', 'Anberlin', 'Lostprophets', 'Stereophonics', 'Lifehouse', 'Counting Crows', 'Coma', 'Alter Bridge', 'Bloodhound Gang']\n"
     ]
    }
   ],
   "source": [
    "print(tag_top_artists)"
   ]
  },
  {
   "cell_type": "code",
   "execution_count": null,
   "metadata": {},
   "outputs": [],
   "source": []
  }
 ],
 "metadata": {
  "kernelspec": {
   "display_name": "conda_python3",
   "language": "python",
   "name": "conda_python3"
  },
  "language_info": {
   "codemirror_mode": {
    "name": "ipython",
    "version": 3
   },
   "file_extension": ".py",
   "mimetype": "text/x-python",
   "name": "python",
   "nbconvert_exporter": "python",
   "pygments_lexer": "ipython3",
   "version": "3.6.5"
  }
 },
 "nbformat": 4,
 "nbformat_minor": 4
}
